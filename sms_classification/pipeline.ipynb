{
 "cells": [
  {
   "cell_type": "code",
   "execution_count": 61,
   "metadata": {},
   "outputs": [],
   "source": [
    "import pandas as pd\n",
    "import numpy as np"
   ]
  },
  {
   "cell_type": "code",
   "execution_count": 26,
   "metadata": {},
   "outputs": [
    {
     "data": {
      "text/html": [
       "<div>\n",
       "<style scoped>\n",
       "    .dataframe tbody tr th:only-of-type {\n",
       "        vertical-align: middle;\n",
       "    }\n",
       "\n",
       "    .dataframe tbody tr th {\n",
       "        vertical-align: top;\n",
       "    }\n",
       "\n",
       "    .dataframe thead th {\n",
       "        text-align: right;\n",
       "    }\n",
       "</style>\n",
       "<table border=\"1\" class=\"dataframe\">\n",
       "  <thead>\n",
       "    <tr style=\"text-align: right;\">\n",
       "      <th></th>\n",
       "      <th>class</th>\n",
       "      <th>content</th>\n",
       "    </tr>\n",
       "  </thead>\n",
       "  <tbody>\n",
       "    <tr>\n",
       "      <th>0</th>\n",
       "      <td>ham</td>\n",
       "      <td>Go until jurong point, crazy.. Available only ...</td>\n",
       "    </tr>\n",
       "    <tr>\n",
       "      <th>1</th>\n",
       "      <td>ham</td>\n",
       "      <td>Ok lar... Joking wif u oni...</td>\n",
       "    </tr>\n",
       "    <tr>\n",
       "      <th>2</th>\n",
       "      <td>spam</td>\n",
       "      <td>Free entry in 2 a wkly comp to win FA Cup fina...</td>\n",
       "    </tr>\n",
       "    <tr>\n",
       "      <th>3</th>\n",
       "      <td>ham</td>\n",
       "      <td>U dun say so early hor... U c already then say...</td>\n",
       "    </tr>\n",
       "    <tr>\n",
       "      <th>4</th>\n",
       "      <td>ham</td>\n",
       "      <td>Nah I don't think he goes to usf, he lives aro...</td>\n",
       "    </tr>\n",
       "    <tr>\n",
       "      <th>5</th>\n",
       "      <td>spam</td>\n",
       "      <td>FreeMsg Hey there darling it's been 3 week's n...</td>\n",
       "    </tr>\n",
       "    <tr>\n",
       "      <th>6</th>\n",
       "      <td>ham</td>\n",
       "      <td>Even my brother is not like to speak with me. ...</td>\n",
       "    </tr>\n",
       "    <tr>\n",
       "      <th>7</th>\n",
       "      <td>ham</td>\n",
       "      <td>As per your request 'Melle Melle (Oru Minnamin...</td>\n",
       "    </tr>\n",
       "    <tr>\n",
       "      <th>8</th>\n",
       "      <td>spam</td>\n",
       "      <td>WINNER!! As a valued network customer you have...</td>\n",
       "    </tr>\n",
       "    <tr>\n",
       "      <th>9</th>\n",
       "      <td>spam</td>\n",
       "      <td>Had your mobile 11 months or more? U R entitle...</td>\n",
       "    </tr>\n",
       "  </tbody>\n",
       "</table>\n",
       "</div>"
      ],
      "text/plain": [
       "  class                                            content\n",
       "0   ham  Go until jurong point, crazy.. Available only ...\n",
       "1   ham                      Ok lar... Joking wif u oni...\n",
       "2  spam  Free entry in 2 a wkly comp to win FA Cup fina...\n",
       "3   ham  U dun say so early hor... U c already then say...\n",
       "4   ham  Nah I don't think he goes to usf, he lives aro...\n",
       "5  spam  FreeMsg Hey there darling it's been 3 week's n...\n",
       "6   ham  Even my brother is not like to speak with me. ...\n",
       "7   ham  As per your request 'Melle Melle (Oru Minnamin...\n",
       "8  spam  WINNER!! As a valued network customer you have...\n",
       "9  spam  Had your mobile 11 months or more? U R entitle..."
      ]
     },
     "execution_count": 26,
     "metadata": {},
     "output_type": "execute_result"
    }
   ],
   "source": [
    "df = pd.read_csv(\"smsspamcollection.csv\", header=None, names=[\"class\", \"content\"])\n",
    "df.head(10)"
   ]
  },
  {
   "cell_type": "code",
   "execution_count": 27,
   "metadata": {},
   "outputs": [
    {
     "data": {
      "text/html": [
       "<div>\n",
       "<style scoped>\n",
       "    .dataframe tbody tr th:only-of-type {\n",
       "        vertical-align: middle;\n",
       "    }\n",
       "\n",
       "    .dataframe tbody tr th {\n",
       "        vertical-align: top;\n",
       "    }\n",
       "\n",
       "    .dataframe thead th {\n",
       "        text-align: right;\n",
       "    }\n",
       "</style>\n",
       "<table border=\"1\" class=\"dataframe\">\n",
       "  <thead>\n",
       "    <tr style=\"text-align: right;\">\n",
       "      <th></th>\n",
       "      <th>class</th>\n",
       "      <th>content</th>\n",
       "    </tr>\n",
       "  </thead>\n",
       "  <tbody>\n",
       "    <tr>\n",
       "      <th>0</th>\n",
       "      <td>0</td>\n",
       "      <td>Go until jurong point, crazy.. Available only ...</td>\n",
       "    </tr>\n",
       "    <tr>\n",
       "      <th>1</th>\n",
       "      <td>0</td>\n",
       "      <td>Ok lar... Joking wif u oni...</td>\n",
       "    </tr>\n",
       "    <tr>\n",
       "      <th>2</th>\n",
       "      <td>1</td>\n",
       "      <td>Free entry in 2 a wkly comp to win FA Cup fina...</td>\n",
       "    </tr>\n",
       "    <tr>\n",
       "      <th>3</th>\n",
       "      <td>0</td>\n",
       "      <td>U dun say so early hor... U c already then say...</td>\n",
       "    </tr>\n",
       "    <tr>\n",
       "      <th>4</th>\n",
       "      <td>0</td>\n",
       "      <td>Nah I don't think he goes to usf, he lives aro...</td>\n",
       "    </tr>\n",
       "    <tr>\n",
       "      <th>5</th>\n",
       "      <td>1</td>\n",
       "      <td>FreeMsg Hey there darling it's been 3 week's n...</td>\n",
       "    </tr>\n",
       "    <tr>\n",
       "      <th>6</th>\n",
       "      <td>0</td>\n",
       "      <td>Even my brother is not like to speak with me. ...</td>\n",
       "    </tr>\n",
       "    <tr>\n",
       "      <th>7</th>\n",
       "      <td>0</td>\n",
       "      <td>As per your request 'Melle Melle (Oru Minnamin...</td>\n",
       "    </tr>\n",
       "    <tr>\n",
       "      <th>8</th>\n",
       "      <td>1</td>\n",
       "      <td>WINNER!! As a valued network customer you have...</td>\n",
       "    </tr>\n",
       "    <tr>\n",
       "      <th>9</th>\n",
       "      <td>1</td>\n",
       "      <td>Had your mobile 11 months or more? U R entitle...</td>\n",
       "    </tr>\n",
       "  </tbody>\n",
       "</table>\n",
       "</div>"
      ],
      "text/plain": [
       "   class                                            content\n",
       "0      0  Go until jurong point, crazy.. Available only ...\n",
       "1      0                      Ok lar... Joking wif u oni...\n",
       "2      1  Free entry in 2 a wkly comp to win FA Cup fina...\n",
       "3      0  U dun say so early hor... U c already then say...\n",
       "4      0  Nah I don't think he goes to usf, he lives aro...\n",
       "5      1  FreeMsg Hey there darling it's been 3 week's n...\n",
       "6      0  Even my brother is not like to speak with me. ...\n",
       "7      0  As per your request 'Melle Melle (Oru Minnamin...\n",
       "8      1  WINNER!! As a valued network customer you have...\n",
       "9      1  Had your mobile 11 months or more? U R entitle..."
      ]
     },
     "execution_count": 27,
     "metadata": {},
     "output_type": "execute_result"
    }
   ],
   "source": [
    "# Convert class to numerical variables\n",
    "df['class'] = df['class'].map({'spam': 1, 'ham': 0})\n",
    "df.head(10)"
   ]
  },
  {
   "cell_type": "code",
   "execution_count": 28,
   "metadata": {},
   "outputs": [],
   "source": [
    "X = df['content']\n",
    "y = df['class']\n"
   ]
  },
  {
   "cell_type": "code",
   "execution_count": 32,
   "metadata": {},
   "outputs": [],
   "source": [
    "# Split dataset to train and test\n",
    "from sklearn.model_selection import train_test_split\n",
    "\n",
    "X_train, X_test, y_train, y_test = train_test_split(X, y, random_state=1)\n",
    "\n",
    "X_train = X_train.values\n",
    "X_test = X_test.values\n",
    "y_train = y_train.values\n",
    "y_test = y_test.values"
   ]
  },
  {
   "cell_type": "code",
   "execution_count": 40,
   "metadata": {},
   "outputs": [],
   "source": [
    "# Build Bag of words and vectorizing\n",
    "from sklearn.feature_extraction.text import CountVectorizer\n",
    "\n",
    "vector = CountVectorizer(stop_words='english')\n",
    "\n",
    "vector.fit(X_train)\n",
    "\n",
    "X_train_transform = vector.transform(X_train)\n",
    "X_test_transform = vector.transform(X_test)"
   ]
  },
  {
   "cell_type": "code",
   "execution_count": 51,
   "metadata": {},
   "outputs": [
    {
     "name": "stdout",
     "output_type": "stream",
     "text": [
      "[[9.95239557e-01 4.76044325e-03]\n",
      " [9.99852357e-01 1.47642544e-04]\n",
      " [9.27878579e-01 7.21214213e-02]\n",
      " ...\n",
      " [9.99999671e-01 3.28799076e-07]\n",
      " [3.72703622e-09 9.99999996e-01]\n",
      " [9.99999985e-01 1.46852511e-08]]\n"
     ]
    }
   ],
   "source": [
    "from sklearn.naive_bayes import MultinomialNB\n",
    "\n",
    "mnb = MultinomialNB()\n",
    "\n",
    "# Fit model with train dataset\n",
    "mnb = mnb.fit(X_train_transform, y_train)\n",
    "\n",
    "# Do prediction\n",
    "mnb_predict = mnb.predict(X_test_transform)\n",
    "\n",
    "# Test dataset\n",
    "mnb_prob = mnb.predict_proba(X_test_transform)\n",
    "\n",
    "print(mnb_prob)"
   ]
  },
  {
   "cell_type": "code",
   "execution_count": 46,
   "metadata": {},
   "outputs": [
    {
     "name": "stdout",
     "output_type": "stream",
     "text": [
      "[[1.00000000e+00 1.54647985e-10]\n",
      " [1.00000000e+00 1.69177313e-10]\n",
      " [9.99999997e-01 2.52488636e-09]\n",
      " ...\n",
      " [9.99994219e-01 5.78141360e-06]\n",
      " [3.64570741e-06 9.99996354e-01]\n",
      " [1.00000000e+00 2.90374743e-12]]\n"
     ]
    }
   ],
   "source": [
    "from sklearn.naive_bayes import BernoulliNB\n",
    "\n",
    "bnb = BernoulliNB()\n",
    "\n",
    "# Fit model with train dataset\n",
    "bnb = bnb.fit(X_train_transform, y_train)\n",
    "\n",
    "\n",
    "bnb_predict = bnb.predict(X_test_transform)\n",
    "\n",
    "# Test dataset\n",
    "bnb_prob = bnb.predict_proba(X_test_transform)\n",
    "\n",
    "print(bnb_prob)"
   ]
  },
  {
   "cell_type": "markdown",
   "metadata": {},
   "source": [
    "## Model Evaluation"
   ]
  },
  {
   "cell_type": "code",
   "execution_count": 55,
   "metadata": {},
   "outputs": [
    {
     "name": "stdout",
     "output_type": "stream",
     "text": [
      "\n",
      "MNB Accuracy: 0.9877961234745154\n",
      "\n",
      "BNB Accuracy: 0.9770279971284996\n"
     ]
    }
   ],
   "source": [
    "from sklearn import metrics\n",
    "\n",
    "mnb_accuracy_score = metrics.accuracy_score(y_test, mnb_predict)\n",
    "\n",
    "bnb_accuracy_score = metrics.accuracy_score(y_test, bnb_predict)\n",
    "\n",
    "\n",
    "print(f\"\\nMNB Accuracy: {mnb_accuracy_score}\")\n",
    "\n",
    "print(f\"\\nBNB Accuracy: {bnb_accuracy_score}\")"
   ]
  },
  {
   "cell_type": "code",
   "execution_count": 60,
   "metadata": {},
   "outputs": [
    {
     "name": "stdout",
     "output_type": "stream",
     "text": [
      "\n",
      "MNB Confusion Matrix:\n",
      " [[1201    7]\n",
      " [  10  175]]\n",
      "\n",
      "BNB Confusion Matrix:\n",
      " [[1207    1]\n",
      " [  31  154]]\n"
     ]
    }
   ],
   "source": [
    "mnb_confusion_matrix = metrics.confusion_matrix(y_test, mnb_predict)\n",
    "bnb_confusion_matrix = metrics.confusion_matrix(y_test, bnb_predict)\n",
    "\n",
    "print(f\"\\nMNB Confusion Matrix:\\n {mnb_confusion_matrix}\")\n",
    "\n",
    "print(f\"\\nBNB Confusion Matrix:\\n {bnb_confusion_matrix}\")"
   ]
  },
  {
   "cell_type": "code",
   "execution_count": 63,
   "metadata": {},
   "outputs": [],
   "source": [
    "def evaluate_model(y_test: np.array, y_predict: np.array):\n",
    "\n",
    "    from sklearn import metrics\n",
    "\n",
    "    confusion_matrix = metrics.confusion_matrix(y_test, y_predict)\n",
    "\n",
    "\n",
    "    # Get values\n",
    "    TN = confusion_matrix[0, 0]\n",
    "    FP = confusion_matrix[0, 1]\n",
    "    FN = confusion_matrix[1, 0]\n",
    "    TP = confusion_matrix[1, 1]\n",
    "\n",
    "\n",
    "    sensitivity = TP / float(FN + TP)\n",
    "    print(\"sensitivity\",sensitivity)\n",
    "\n",
    "    specificity = TN / float(TN + FP)\n",
    "    print(\"specificity\",specificity)\n",
    "\n",
    "    precision = TP / float(TP + FP)\n",
    "    print(\"precision\",precision)\n",
    "\n",
    "    print(\"PRECISION SCORE :\",metrics.precision_score(y_test, y_predict))\n",
    "    print(\"RECALL SCORE :\", metrics.recall_score(y_test, y_predict))\n",
    "    print(\"F1 SCORE :\",metrics.f1_score(y_test, y_predict))\n",
    "\n"
   ]
  },
  {
   "cell_type": "code",
   "execution_count": 64,
   "metadata": {},
   "outputs": [
    {
     "name": "stdout",
     "output_type": "stream",
     "text": [
      "sensitivity 0.9459459459459459\n",
      "specificity 0.9942052980132451\n",
      "precision 0.9615384615384616\n",
      "PRECISION SCORE : 0.9615384615384616\n",
      "RECALL SCORE : 0.9459459459459459\n",
      "F1 SCORE : 0.9536784741144414\n"
     ]
    }
   ],
   "source": [
    "# Evaluate MNB model\n",
    "evaluate_model(y_test=y_test, y_predict=mnb_predict)"
   ]
  },
  {
   "cell_type": "code",
   "execution_count": 65,
   "metadata": {},
   "outputs": [
    {
     "name": "stdout",
     "output_type": "stream",
     "text": [
      "sensitivity 0.8324324324324325\n",
      "specificity 0.9991721854304636\n",
      "precision 0.9935483870967742\n",
      "PRECISION SCORE : 0.9935483870967742\n",
      "RECALL SCORE : 0.8324324324324325\n",
      "F1 SCORE : 0.9058823529411765\n"
     ]
    }
   ],
   "source": [
    "# Evaluate BNB model\n",
    "evaluate_model(y_test=y_test, y_predict=bnb_predict)"
   ]
  },
  {
   "cell_type": "code",
   "execution_count": 70,
   "metadata": {},
   "outputs": [],
   "source": [
    "def create_roc_curve(y_test: np.array, y_predict_prob: np.array):\n",
    "\n",
    "    # creating an ROC curve\n",
    "    import pandas as pd\n",
    "    from sklearn.metrics import confusion_matrix as sk_confusion_matrix\n",
    "    from sklearn.metrics import roc_curve, auc\n",
    "    import matplotlib.pyplot as plt\n",
    "\n",
    "    false_positive_rate, true_positive_rate, thresholds = roc_curve(y_test, y_predict_prob[:,1])\n",
    "    roc_auc = auc(false_positive_rate, true_positive_rate)\n",
    "    print(f\"\\nroc_auc: {roc_auc}\")\n",
    "\n",
    "    matrix_threshold = pd.DataFrame({'Threshold': thresholds, \n",
    "              'TPR': true_positive_rate, \n",
    "              'FPR':false_positive_rate\n",
    "             })\n",
    "    \n",
    "    print(f\"\\nmatrix_threshold: \\n {matrix_threshold}\")\n",
    "\n",
    "\n",
    "    plt.ylabel('True Positive Rate')\n",
    "    plt.xlabel('False Positive Rate')\n",
    "    plt.title('ROC')\n",
    "    plt.plot(false_positive_rate, true_positive_rate)\n",
    "\n",
    "    plt.show()\n",
    "    \n"
   ]
  },
  {
   "cell_type": "code",
   "execution_count": 71,
   "metadata": {},
   "outputs": [
    {
     "name": "stdout",
     "output_type": "stream",
     "text": [
      "\n",
      "roc_auc: 0.9921872203329157\n",
      "\n",
      "matrix_threshold: \n",
      "         Threshold       TPR       FPR\n",
      "0             inf  0.000000  0.000000\n",
      "1    1.000000e+00  0.308108  0.000000\n",
      "2    1.000000e+00  0.313514  0.000000\n",
      "3    1.000000e+00  0.335135  0.000000\n",
      "4    1.000000e+00  0.340541  0.000000\n",
      "..            ...       ...       ...\n",
      "105  6.325596e-13  1.000000  0.959437\n",
      "106  6.086604e-13  1.000000  0.961093\n",
      "107  4.174215e-14  1.000000  0.970199\n",
      "108  3.968331e-14  1.000000  0.972682\n",
      "109  6.227131e-41  1.000000  1.000000\n",
      "\n",
      "[110 rows x 3 columns]\n"
     ]
    },
    {
     "data": {
      "image/png": "[encoded data removed]",
      "text/plain": [
       "<Figure size 640x480 with 1 Axes>"
      ]
     },
     "metadata": {},
     "output_type": "display_data"
    }
   ],
   "source": [
    "# Calculate ROC curse for MNB model\n",
    "create_roc_curve(y_test=y_test, y_predict_prob=mnb_prob)"
   ]
  },
  {
   "cell_type": "code",
   "execution_count": 72,
   "metadata": {},
   "outputs": [
    {
     "name": "stdout",
     "output_type": "stream",
     "text": [
      "\n",
      "roc_auc: 0.9967692858421334\n",
      "\n",
      "matrix_threshold: \n",
      "         Threshold       TPR       FPR\n",
      "0             inf  0.000000  0.000000\n",
      "1    1.000000e+00  0.254054  0.000000\n",
      "2    1.000000e+00  0.286486  0.000000\n",
      "3    1.000000e+00  0.297297  0.000000\n",
      "4    1.000000e+00  0.302703  0.000000\n",
      "..            ...       ...       ...\n",
      "101  3.481678e-13  1.000000  0.932119\n",
      "102  3.468137e-13  1.000000  0.933775\n",
      "103  3.256825e-13  1.000000  0.935430\n",
      "104  3.248228e-13  1.000000  0.937086\n",
      "105  5.938675e-17  1.000000  1.000000\n",
      "\n",
      "[106 rows x 3 columns]\n"
     ]
    },
    {
     "data": {
      "image/png": "[encoded data removed]",
      "text/plain": [
       "<Figure size 640x480 with 1 Axes>"
      ]
     },
     "metadata": {},
     "output_type": "display_data"
    }
   ],
   "source": [
    "# Calculate ROC curse for BNB model\n",
    "create_roc_curve(y_test=y_test, y_predict_prob=bnb_prob)"
   ]
  },
  {
   "cell_type": "code",
   "execution_count": null,
   "metadata": {},
   "outputs": [],
   "source": []
  }
 ],
 "metadata": {
  "kernelspec": {
   "display_name": "venv",
   "language": "python",
   "name": "python3"
  },
  "language_info": {
   "codemirror_mode": {
    "name": "ipython",
    "version": 3
   },
   "file_extension": ".py",
   "mimetype": "text/x-python",
   "name": "python",
   "nbconvert_exporter": "python",
   "pygments_lexer": "ipython3",
   "version": "3.10.13"
  }
 },
 "nbformat": 4,
 "nbformat_minor": 2
}
