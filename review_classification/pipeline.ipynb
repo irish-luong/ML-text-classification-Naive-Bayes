{
 "cells": [
  {
   "cell_type": "code",
   "execution_count": 46,
   "metadata": {},
   "outputs": [],
   "source": [
    "import pandas as pd\n",
    "import numpy as np"
   ]
  },
  {
   "cell_type": "code",
   "execution_count": 47,
   "metadata": {},
   "outputs": [
    {
     "data": {
      "text/html": [
       "<div>\n",
       "<style scoped>\n",
       "    .dataframe tbody tr th:only-of-type {\n",
       "        vertical-align: middle;\n",
       "    }\n",
       "\n",
       "    .dataframe tbody tr th {\n",
       "        vertical-align: top;\n",
       "    }\n",
       "\n",
       "    .dataframe thead th {\n",
       "        text-align: right;\n",
       "    }\n",
       "</style>\n",
       "<table border=\"1\" class=\"dataframe\">\n",
       "  <thead>\n",
       "    <tr style=\"text-align: right;\">\n",
       "      <th></th>\n",
       "      <th>class</th>\n",
       "      <th>text</th>\n",
       "    </tr>\n",
       "  </thead>\n",
       "  <tbody>\n",
       "    <tr>\n",
       "      <th>0</th>\n",
       "      <td>1</td>\n",
       "      <td>a common complaint amongst film critics is   ...</td>\n",
       "    </tr>\n",
       "    <tr>\n",
       "      <th>1</th>\n",
       "      <td>1</td>\n",
       "      <td>whew   this film oozes energy   the kind of b...</td>\n",
       "    </tr>\n",
       "    <tr>\n",
       "      <th>2</th>\n",
       "      <td>1</td>\n",
       "      <td>steven spielberg s   amistad     which is bas...</td>\n",
       "    </tr>\n",
       "    <tr>\n",
       "      <th>3</th>\n",
       "      <td>1</td>\n",
       "      <td>he has spent his entire life in an awful litt...</td>\n",
       "    </tr>\n",
       "    <tr>\n",
       "      <th>4</th>\n",
       "      <td>1</td>\n",
       "      <td>being that it is a foreign language film with...</td>\n",
       "    </tr>\n",
       "  </tbody>\n",
       "</table>\n",
       "</div>"
      ],
      "text/plain": [
       "   class                                               text\n",
       "0      1   a common complaint amongst film critics is   ...\n",
       "1      1   whew   this film oozes energy   the kind of b...\n",
       "2      1   steven spielberg s   amistad     which is bas...\n",
       "3      1   he has spent his entire life in an awful litt...\n",
       "4      1   being that it is a foreign language film with..."
      ]
     },
     "execution_count": 47,
     "metadata": {},
     "output_type": "execute_result"
    }
   ],
   "source": [
    "train_df = pd.read_csv(\"movie_review_train.csv\")\n",
    "train_df['class'] = train_df['class'].map({'Pos': 1, 'Neg': 0})\n",
    "train_df.head()"
   ]
  },
  {
   "cell_type": "code",
   "execution_count": 48,
   "metadata": {},
   "outputs": [
    {
     "data": {
      "text/plain": [
       "(1600, 2)"
      ]
     },
     "execution_count": 48,
     "metadata": {},
     "output_type": "execute_result"
    }
   ],
   "source": [
    "train_df.shape"
   ]
  },
  {
   "cell_type": "code",
   "execution_count": 49,
   "metadata": {},
   "outputs": [
    {
     "data": {
      "text/html": [
       "<div>\n",
       "<style scoped>\n",
       "    .dataframe tbody tr th:only-of-type {\n",
       "        vertical-align: middle;\n",
       "    }\n",
       "\n",
       "    .dataframe tbody tr th {\n",
       "        vertical-align: top;\n",
       "    }\n",
       "\n",
       "    .dataframe thead th {\n",
       "        text-align: right;\n",
       "    }\n",
       "</style>\n",
       "<table border=\"1\" class=\"dataframe\">\n",
       "  <thead>\n",
       "    <tr style=\"text-align: right;\">\n",
       "      <th></th>\n",
       "      <th>class</th>\n",
       "      <th>text</th>\n",
       "    </tr>\n",
       "  </thead>\n",
       "  <tbody>\n",
       "    <tr>\n",
       "      <th>0</th>\n",
       "      <td>1</td>\n",
       "      <td>films adapted from comic books have had plent...</td>\n",
       "    </tr>\n",
       "    <tr>\n",
       "      <th>1</th>\n",
       "      <td>1</td>\n",
       "      <td>every now and then a movie comes along from a...</td>\n",
       "    </tr>\n",
       "    <tr>\n",
       "      <th>2</th>\n",
       "      <td>1</td>\n",
       "      <td>you ve got mail works alot better than it des...</td>\n",
       "    </tr>\n",
       "    <tr>\n",
       "      <th>3</th>\n",
       "      <td>1</td>\n",
       "      <td>jaws   is a rare film that grabs your atte...</td>\n",
       "    </tr>\n",
       "    <tr>\n",
       "      <th>4</th>\n",
       "      <td>1</td>\n",
       "      <td>moviemaking is a lot like being the general m...</td>\n",
       "    </tr>\n",
       "  </tbody>\n",
       "</table>\n",
       "</div>"
      ],
      "text/plain": [
       "   class                                               text\n",
       "0      1   films adapted from comic books have had plent...\n",
       "1      1   every now and then a movie comes along from a...\n",
       "2      1   you ve got mail works alot better than it des...\n",
       "3      1      jaws   is a rare film that grabs your atte...\n",
       "4      1   moviemaking is a lot like being the general m..."
      ]
     },
     "execution_count": 49,
     "metadata": {},
     "output_type": "execute_result"
    }
   ],
   "source": [
    "test_df = pd.read_csv(\"movie_review_test.csv\")\n",
    "test_df['class'] = test_df['class'].map({'Pos': 1, 'Neg': 0})\n",
    "test_df.head()"
   ]
  },
  {
   "cell_type": "code",
   "execution_count": 50,
   "metadata": {},
   "outputs": [
    {
     "data": {
      "text/plain": [
       "(400, 2)"
      ]
     },
     "execution_count": 50,
     "metadata": {},
     "output_type": "execute_result"
    }
   ],
   "source": [
    "test_df.shape"
   ]
  },
  {
   "cell_type": "code",
   "execution_count": 51,
   "metadata": {},
   "outputs": [],
   "source": [
    "X_train = train_df['text'].values\n",
    "y_train = train_df['class'].values\n",
    "X_test = test_df['text'].values\n",
    "y_test = test_df['class'].values"
   ]
  },
  {
   "cell_type": "code",
   "execution_count": 52,
   "metadata": {},
   "outputs": [
    {
     "data": {
      "text/html": [
       "<style>#sk-container-id-6 {color: black;}#sk-container-id-6 pre{padding: 0;}#sk-container-id-6 div.sk-toggleable {background-color: white;}#sk-container-id-6 label.sk-toggleable__label {cursor: pointer;display: block;width: 100%;margin-bottom: 0;padding: 0.3em;box-sizing: border-box;text-align: center;}#sk-container-id-6 label.sk-toggleable__label-arrow:before {content: \"▸\";float: left;margin-right: 0.25em;color: #696969;}#sk-container-id-6 label.sk-toggleable__label-arrow:hover:before {color: black;}#sk-container-id-6 div.sk-estimator:hover label.sk-toggleable__label-arrow:before {color: black;}#sk-container-id-6 div.sk-toggleable__content {max-height: 0;max-width: 0;overflow: hidden;text-align: left;background-color: #f0f8ff;}#sk-container-id-6 div.sk-toggleable__content pre {margin: 0.2em;color: black;border-radius: 0.25em;background-color: #f0f8ff;}#sk-container-id-6 input.sk-toggleable__control:checked~div.sk-toggleable__content {max-height: 200px;max-width: 100%;overflow: auto;}#sk-container-id-6 input.sk-toggleable__control:checked~label.sk-toggleable__label-arrow:before {content: \"▾\";}#sk-container-id-6 div.sk-estimator input.sk-toggleable__control:checked~label.sk-toggleable__label {background-color: #d4ebff;}#sk-container-id-6 div.sk-label input.sk-toggleable__control:checked~label.sk-toggleable__label {background-color: #d4ebff;}#sk-container-id-6 input.sk-hidden--visually {border: 0;clip: rect(1px 1px 1px 1px);clip: rect(1px, 1px, 1px, 1px);height: 1px;margin: -1px;overflow: hidden;padding: 0;position: absolute;width: 1px;}#sk-container-id-6 div.sk-estimator {font-family: monospace;background-color: #f0f8ff;border: 1px dotted black;border-radius: 0.25em;box-sizing: border-box;margin-bottom: 0.5em;}#sk-container-id-6 div.sk-estimator:hover {background-color: #d4ebff;}#sk-container-id-6 div.sk-parallel-item::after {content: \"\";width: 100%;border-bottom: 1px solid gray;flex-grow: 1;}#sk-container-id-6 div.sk-label:hover label.sk-toggleable__label {background-color: #d4ebff;}#sk-container-id-6 div.sk-serial::before {content: \"\";position: absolute;border-left: 1px solid gray;box-sizing: border-box;top: 0;bottom: 0;left: 50%;z-index: 0;}#sk-container-id-6 div.sk-serial {display: flex;flex-direction: column;align-items: center;background-color: white;padding-right: 0.2em;padding-left: 0.2em;position: relative;}#sk-container-id-6 div.sk-item {position: relative;z-index: 1;}#sk-container-id-6 div.sk-parallel {display: flex;align-items: stretch;justify-content: center;background-color: white;position: relative;}#sk-container-id-6 div.sk-item::before, #sk-container-id-6 div.sk-parallel-item::before {content: \"\";position: absolute;border-left: 1px solid gray;box-sizing: border-box;top: 0;bottom: 0;left: 50%;z-index: -1;}#sk-container-id-6 div.sk-parallel-item {display: flex;flex-direction: column;z-index: 1;position: relative;background-color: white;}#sk-container-id-6 div.sk-parallel-item:first-child::after {align-self: flex-end;width: 50%;}#sk-container-id-6 div.sk-parallel-item:last-child::after {align-self: flex-start;width: 50%;}#sk-container-id-6 div.sk-parallel-item:only-child::after {width: 0;}#sk-container-id-6 div.sk-dashed-wrapped {border: 1px dashed gray;margin: 0 0.4em 0.5em 0.4em;box-sizing: border-box;padding-bottom: 0.4em;background-color: white;}#sk-container-id-6 div.sk-label label {font-family: monospace;font-weight: bold;display: inline-block;line-height: 1.2em;}#sk-container-id-6 div.sk-label-container {text-align: center;}#sk-container-id-6 div.sk-container {/* jupyter's `normalize.less` sets `[hidden] { display: none; }` but bootstrap.min.css set `[hidden] { display: none !important; }` so we also need the `!important` here to be able to override the default hidden behavior on the sphinx rendered scikit-learn.org. See: https://github.com/scikit-learn/scikit-learn/issues/21755 */display: inline-block !important;position: relative;}#sk-container-id-6 div.sk-text-repr-fallback {display: none;}</style><div id=\"sk-container-id-6\" class=\"sk-top-container\"><div class=\"sk-text-repr-fallback\"><pre>CountVectorizer(max_df=0.8, min_df=0.03, stop_words=&#x27;english&#x27;)</pre><b>In a Jupyter environment, please rerun this cell to show the HTML representation or trust the notebook. <br />On GitHub, the HTML representation is unable to render, please try loading this page with nbviewer.org.</b></div><div class=\"sk-container\" hidden><div class=\"sk-item\"><div class=\"sk-estimator sk-toggleable\"><input class=\"sk-toggleable__control sk-hidden--visually\" id=\"sk-estimator-id-6\" type=\"checkbox\" checked><label for=\"sk-estimator-id-6\" class=\"sk-toggleable__label sk-toggleable__label-arrow\">CountVectorizer</label><div class=\"sk-toggleable__content\"><pre>CountVectorizer(max_df=0.8, min_df=0.03, stop_words=&#x27;english&#x27;)</pre></div></div></div></div></div>"
      ],
      "text/plain": [
       "CountVectorizer(max_df=0.8, min_df=0.03, stop_words='english')"
      ]
     },
     "execution_count": 52,
     "metadata": {},
     "output_type": "execute_result"
    }
   ],
   "source": [
    "from sklearn.feature_extraction.text import CountVectorizer\n",
    "\n",
    "vector = CountVectorizer(stop_words='english', min_df=.03, max_df=.8)\n",
    "vector.fit(X_train)"
   ]
  },
  {
   "cell_type": "code",
   "execution_count": 53,
   "metadata": {},
   "outputs": [
    {
     "data": {
      "text/plain": [
       "1643"
      ]
     },
     "execution_count": 53,
     "metadata": {},
     "output_type": "execute_result"
    }
   ],
   "source": [
    "len(vector.vocabulary_)"
   ]
  },
  {
   "cell_type": "code",
   "execution_count": 54,
   "metadata": {},
   "outputs": [],
   "source": [
    "X_train_transformed = vector.transform(X_train)"
   ]
  },
  {
   "cell_type": "code",
   "execution_count": 55,
   "metadata": {},
   "outputs": [],
   "source": [
    "X_test_transformed = vector.transform(X_test)"
   ]
  },
  {
   "cell_type": "code",
   "execution_count": 62,
   "metadata": {},
   "outputs": [
    {
     "data": {
      "text/plain": [
       "Series([], dtype: int64)"
      ]
     },
     "execution_count": 62,
     "metadata": {},
     "output_type": "execute_result"
    }
   ],
   "source": [
    "test_vector_df = pd.DataFrame(\n",
    "    X_test_transformed.toarray(), \n",
    "             columns=vector.get_feature_names_out()\n",
    "             )\n",
    "\n",
    "sum_entity = test_vector_df.sum(axis=1)\n",
    "\n",
    "sum_entity[sum_entity == 0]\n"
   ]
  },
  {
   "cell_type": "code",
   "execution_count": 68,
   "metadata": {},
   "outputs": [
    {
     "data": {
      "text/plain": [
       "51663"
      ]
     },
     "execution_count": 68,
     "metadata": {},
     "output_type": "execute_result"
    }
   ],
   "source": [
    "X_test_transformed.count_nonzero()"
   ]
  },
  {
   "cell_type": "code",
   "execution_count": 69,
   "metadata": {},
   "outputs": [
    {
     "name": "stdout",
     "output_type": "stream",
     "text": [
      "[[9.48171309e-03 9.90518287e-01]\n",
      " [6.49769619e-03 9.93502304e-01]\n",
      " [3.94902967e-01 6.05097033e-01]\n",
      " [2.04992401e-12 1.00000000e+00]\n",
      " [9.98827241e-01 1.17275875e-03]\n",
      " [1.78941734e-12 1.00000000e+00]\n",
      " [5.94773559e-07 9.99999405e-01]\n",
      " [2.02838492e-03 9.97971615e-01]\n",
      " [9.17950086e-01 8.20499136e-02]\n",
      " [9.44944057e-02 9.05505594e-01]\n",
      " [9.97389573e-04 9.99002610e-01]\n",
      " [8.55906408e-04 9.99144094e-01]\n",
      " [3.30288186e-03 9.96697118e-01]\n",
      " [2.50950625e-02 9.74904938e-01]\n",
      " [7.32820406e-05 9.99926718e-01]\n",
      " [5.14487298e-01 4.85512702e-01]\n",
      " [9.77854644e-01 2.21453565e-02]\n",
      " [2.42691437e-09 9.99999998e-01]\n",
      " [9.44024181e-03 9.90559758e-01]\n",
      " [9.91992498e-01 8.00750156e-03]\n",
      " [9.66449102e-01 3.35508975e-02]\n",
      " [4.86743623e-03 9.95132564e-01]\n",
      " [9.99484407e-01 5.15592846e-04]\n",
      " [2.34114640e-08 9.99999977e-01]\n",
      " [1.30729625e-02 9.86927037e-01]\n",
      " [8.52461780e-03 9.91475382e-01]\n",
      " [4.42578499e-01 5.57421501e-01]\n",
      " [7.63045646e-17 1.00000000e+00]\n",
      " [8.84649210e-07 9.99999115e-01]\n",
      " [3.62045689e-12 1.00000000e+00]\n",
      " [3.44449383e-02 9.65555062e-01]\n",
      " [3.88290760e-01 6.11709240e-01]\n",
      " [3.37132720e-12 1.00000000e+00]\n",
      " [4.84148627e-03 9.95158514e-01]\n",
      " [9.93589950e-01 6.41005007e-03]\n",
      " [1.66948860e-05 9.99983305e-01]\n",
      " [4.92201371e-02 9.50779863e-01]\n",
      " [5.74361777e-06 9.99994256e-01]\n",
      " [9.52431592e-01 4.75684077e-02]\n",
      " [1.04702040e-01 8.95297960e-01]\n",
      " [5.57968679e-01 4.42031321e-01]\n",
      " [1.07713452e-07 9.99999892e-01]\n",
      " [6.62254477e-07 9.99999338e-01]\n",
      " [1.92595104e-05 9.99980740e-01]\n",
      " [3.79757763e-01 6.20242237e-01]\n",
      " [4.82097348e-03 9.95179027e-01]\n",
      " [5.57197875e-03 9.94428021e-01]\n",
      " [1.34942040e-04 9.99865058e-01]\n",
      " [5.85566341e-05 9.99941443e-01]\n",
      " [9.99959753e-01 4.02471667e-05]\n",
      " [9.99987064e-01 1.29359840e-05]\n",
      " [6.69274037e-05 9.99933073e-01]\n",
      " [7.53560441e-01 2.46439559e-01]\n",
      " [7.37486581e-06 9.99992625e-01]\n",
      " [9.57792058e-01 4.22079423e-02]\n",
      " [5.25284974e-04 9.99474715e-01]\n",
      " [6.45562426e-01 3.54437574e-01]\n",
      " [9.99398536e-01 6.01463610e-04]\n",
      " [9.98742842e-01 1.25715777e-03]\n",
      " [3.77034348e-08 9.99999962e-01]\n",
      " [6.88653387e-02 9.31134661e-01]\n",
      " [9.34388924e-04 9.99065611e-01]\n",
      " [1.91394733e-08 9.99999981e-01]\n",
      " [9.69474504e-01 3.05254961e-02]\n",
      " [7.92573459e-02 9.20742654e-01]\n",
      " [1.42980336e-06 9.99998570e-01]\n",
      " [2.20010206e-02 9.77998979e-01]\n",
      " [3.68617179e-03 9.96313828e-01]\n",
      " [1.73465128e-01 8.26534872e-01]\n",
      " [2.09829806e-06 9.99997902e-01]\n",
      " [8.80261961e-02 9.11973804e-01]\n",
      " [8.72856060e-07 9.99999127e-01]\n",
      " [9.98927510e-01 1.07249019e-03]\n",
      " [1.76721025e-01 8.23278975e-01]\n",
      " [6.68906749e-04 9.99331093e-01]\n",
      " [9.99941301e-01 5.86993955e-05]\n",
      " [6.54416476e-08 9.99999935e-01]\n",
      " [9.07065271e-01 9.29347288e-02]\n",
      " [4.31244742e-03 9.95687553e-01]\n",
      " [9.92563527e-01 7.43647285e-03]\n",
      " [9.99085409e-01 9.14591053e-04]\n",
      " [1.09825557e-06 9.99998902e-01]\n",
      " [9.99999062e-01 9.37754086e-07]\n",
      " [2.25836231e-04 9.99774164e-01]\n",
      " [5.82134175e-02 9.41786583e-01]\n",
      " [3.29627105e-05 9.99967037e-01]\n",
      " [1.50801070e-08 9.99999985e-01]\n",
      " [1.41486006e-08 9.99999986e-01]\n",
      " [1.88842341e-01 8.11157659e-01]\n",
      " [9.55854909e-01 4.41450911e-02]\n",
      " [9.99031256e-01 9.68744455e-04]\n",
      " [4.88085899e-03 9.95119141e-01]\n",
      " [1.30460650e-03 9.98695394e-01]\n",
      " [8.60629981e-01 1.39370019e-01]\n",
      " [1.69447589e-04 9.99830552e-01]\n",
      " [7.97753019e-01 2.02246981e-01]\n",
      " [1.74757903e-08 9.99999983e-01]\n",
      " [7.42450956e-05 9.99925755e-01]\n",
      " [9.76644598e-01 2.33554025e-02]\n",
      " [1.84303218e-03 9.98156968e-01]\n",
      " [2.13745505e-02 9.78625450e-01]\n",
      " [3.91313916e-06 9.99996087e-01]\n",
      " [3.73364550e-04 9.99626635e-01]\n",
      " [1.93703380e-01 8.06296620e-01]\n",
      " [7.44802826e-01 2.55197174e-01]\n",
      " [3.68305759e-10 1.00000000e+00]\n",
      " [6.27099372e-05 9.99937290e-01]\n",
      " [9.99985220e-01 1.47799911e-05]\n",
      " [7.09814225e-01 2.90185775e-01]\n",
      " [7.06222917e-01 2.93777083e-01]\n",
      " [9.43996141e-01 5.60038591e-02]\n",
      " [9.99482995e-01 5.17004564e-04]\n",
      " [6.77592369e-04 9.99322408e-01]\n",
      " [2.77319022e-07 9.99999723e-01]\n",
      " [9.95729953e-01 4.27004731e-03]\n",
      " [6.14132943e-11 1.00000000e+00]\n",
      " [6.57232020e-05 9.99934277e-01]\n",
      " [1.10798690e-03 9.98892013e-01]\n",
      " [9.99761947e-01 2.38053145e-04]\n",
      " [9.99998877e-01 1.12319460e-06]\n",
      " [5.83721418e-08 9.99999942e-01]\n",
      " [5.57762873e-08 9.99999944e-01]\n",
      " [1.18420547e-13 1.00000000e+00]\n",
      " [9.25398820e-09 9.99999991e-01]\n",
      " [4.93110479e-04 9.99506890e-01]\n",
      " [1.66600082e-01 8.33399918e-01]\n",
      " [1.43210169e-01 8.56789831e-01]\n",
      " [9.00913986e-01 9.90860143e-02]\n",
      " [1.19397557e-01 8.80602443e-01]\n",
      " [1.50444717e-03 9.98495553e-01]\n",
      " [2.91077156e-02 9.70892284e-01]\n",
      " [1.78049053e-09 9.99999998e-01]\n",
      " [9.97983969e-01 2.01603074e-03]\n",
      " [1.17727217e-01 8.82272783e-01]\n",
      " [7.35799483e-05 9.99926420e-01]\n",
      " [9.99343127e-01 6.56873096e-04]\n",
      " [4.31270324e-05 9.99956873e-01]\n",
      " [1.52568361e-01 8.47431639e-01]\n",
      " [9.74089653e-01 2.59103467e-02]\n",
      " [9.15269459e-01 8.47305414e-02]\n",
      " [3.81145394e-06 9.99996189e-01]\n",
      " [1.53374853e-05 9.99984663e-01]\n",
      " [1.56928652e-03 9.98430713e-01]\n",
      " [3.33574658e-11 1.00000000e+00]\n",
      " [3.89349737e-04 9.99610650e-01]\n",
      " [9.98538273e-01 1.46172685e-03]\n",
      " [1.13890554e-17 1.00000000e+00]\n",
      " [7.36871518e-11 1.00000000e+00]\n",
      " [8.27593515e-05 9.99917241e-01]\n",
      " [2.49692820e-01 7.50307180e-01]\n",
      " [9.55442013e-01 4.45579871e-02]\n",
      " [6.56093630e-03 9.93439064e-01]\n",
      " [9.76438107e-01 2.35618930e-02]\n",
      " [1.13271141e-04 9.99886729e-01]\n",
      " [6.53032362e-04 9.99346968e-01]\n",
      " [5.70733679e-09 9.99999994e-01]\n",
      " [2.65588641e-03 9.97344114e-01]\n",
      " [9.44931793e-01 5.50682068e-02]\n",
      " [1.45167336e-07 9.99999855e-01]\n",
      " [1.01548632e-04 9.99898451e-01]\n",
      " [6.28168509e-04 9.99371831e-01]\n",
      " [9.27205618e-01 7.27943824e-02]\n",
      " [1.77994289e-04 9.99822006e-01]\n",
      " [6.08192251e-17 1.00000000e+00]\n",
      " [4.81883380e-05 9.99951812e-01]\n",
      " [3.44810274e-05 9.99965519e-01]\n",
      " [2.77640427e-10 1.00000000e+00]\n",
      " [3.98433215e-06 9.99996016e-01]\n",
      " [6.31847506e-05 9.99936815e-01]\n",
      " [4.36519895e-12 1.00000000e+00]\n",
      " [9.99887806e-01 1.12194356e-04]\n",
      " [9.89461890e-01 1.05381101e-02]\n",
      " [1.12496410e-01 8.87503590e-01]\n",
      " [9.99659683e-01 3.40316639e-04]\n",
      " [2.42025170e-03 9.97579748e-01]\n",
      " [4.55210569e-01 5.44789431e-01]\n",
      " [6.05445841e-01 3.94554159e-01]\n",
      " [9.64507366e-08 9.99999904e-01]\n",
      " [2.10407232e-01 7.89592768e-01]\n",
      " [4.07380133e-01 5.92619867e-01]\n",
      " [3.11926859e-02 9.68807314e-01]\n",
      " [2.18168377e-05 9.99978183e-01]\n",
      " [8.55181363e-03 9.91448186e-01]\n",
      " [3.25632948e-02 9.67436705e-01]\n",
      " [9.99975672e-01 2.43283748e-05]\n",
      " [9.99982983e-01 1.70168867e-05]\n",
      " [2.32317864e-07 9.99999768e-01]\n",
      " [7.51916204e-04 9.99248084e-01]\n",
      " [9.95253714e-01 4.74628603e-03]\n",
      " [9.48845850e-01 5.11541503e-02]\n",
      " [4.74687141e-08 9.99999953e-01]\n",
      " [9.57291973e-01 4.27080267e-02]\n",
      " [1.61500239e-04 9.99838500e-01]\n",
      " [9.44899985e-01 5.51000147e-02]\n",
      " [9.96207845e-01 3.79215481e-03]\n",
      " [6.22717946e-04 9.99377282e-01]\n",
      " [9.85607706e-01 1.43922940e-02]\n",
      " [1.23362314e-01 8.76637686e-01]\n",
      " [9.99959292e-01 4.07079174e-05]\n",
      " [1.60372643e-05 9.99983963e-01]\n",
      " [9.99909021e-01 9.09790253e-05]\n",
      " [9.99999660e-01 3.40129801e-07]\n",
      " [9.99998550e-01 1.45030409e-06]\n",
      " [9.99610769e-01 3.89230803e-04]\n",
      " [9.41201427e-01 5.87985730e-02]\n",
      " [7.17311465e-01 2.82688535e-01]\n",
      " [9.93819678e-01 6.18032240e-03]\n",
      " [1.00000000e+00 4.03090888e-10]\n",
      " [1.17444027e-01 8.82555973e-01]\n",
      " [9.99998874e-01 1.12593605e-06]\n",
      " [1.51089163e-04 9.99848911e-01]\n",
      " [9.99225372e-01 7.74627686e-04]\n",
      " [9.99999639e-01 3.60809735e-07]\n",
      " [9.99998798e-01 1.20236003e-06]\n",
      " [9.99988842e-01 1.11580559e-05]\n",
      " [9.99997630e-01 2.36998754e-06]\n",
      " [9.99999998e-01 1.86769632e-09]\n",
      " [9.99996388e-01 3.61197484e-06]\n",
      " [9.97692787e-01 2.30721254e-03]\n",
      " [9.91163317e-01 8.83668280e-03]\n",
      " [9.91055343e-01 8.94465650e-03]\n",
      " [9.98141886e-01 1.85811356e-03]\n",
      " [9.99999941e-01 5.93422480e-08]\n",
      " [7.77654330e-01 2.22345670e-01]\n",
      " [1.65093158e-01 8.34906842e-01]\n",
      " [6.72496240e-02 9.32750376e-01]\n",
      " [9.99319036e-01 6.80963648e-04]\n",
      " [9.99963908e-01 3.60924907e-05]\n",
      " [9.96596008e-01 3.40399159e-03]\n",
      " [9.99996684e-01 3.31604241e-06]\n",
      " [9.98037794e-01 1.96220622e-03]\n",
      " [9.99963429e-01 3.65712633e-05]\n",
      " [4.34605053e-03 9.95653949e-01]\n",
      " [9.99930171e-01 6.98294017e-05]\n",
      " [9.81611496e-01 1.83885040e-02]\n",
      " [2.11791323e-01 7.88208677e-01]\n",
      " [9.99989959e-01 1.00414295e-05]\n",
      " [9.99989717e-01 1.02833296e-05]\n",
      " [9.99996539e-01 3.46139842e-06]\n",
      " [9.93233327e-01 6.76667303e-03]\n",
      " [9.99974957e-01 2.50429734e-05]\n",
      " [3.12771722e-02 9.68722828e-01]\n",
      " [3.29862620e-01 6.70137380e-01]\n",
      " [9.99999829e-01 1.71493306e-07]\n",
      " [9.99984456e-01 1.55439961e-05]\n",
      " [9.99999981e-01 1.93989017e-08]\n",
      " [9.98576388e-01 1.42361205e-03]\n",
      " [4.66849813e-01 5.33150187e-01]\n",
      " [9.99995208e-01 4.79159069e-06]\n",
      " [9.02166637e-01 9.78333626e-02]\n",
      " [6.60360915e-01 3.39639085e-01]\n",
      " [9.99929885e-01 7.01154427e-05]\n",
      " [9.99611365e-01 3.88634636e-04]\n",
      " [1.00000000e+00 3.67255946e-10]\n",
      " [9.49505632e-01 5.04943683e-02]\n",
      " [9.99956829e-01 4.31711032e-05]\n",
      " [9.99999973e-01 2.65638169e-08]\n",
      " [9.99996211e-01 3.78913318e-06]\n",
      " [9.99913330e-01 8.66699373e-05]\n",
      " [8.67060871e-01 1.32939129e-01]\n",
      " [2.73876546e-01 7.26123454e-01]\n",
      " [9.73351017e-01 2.66489833e-02]\n",
      " [9.99985125e-01 1.48751653e-05]\n",
      " [9.99999999e-01 5.77356693e-10]\n",
      " [9.99999952e-01 4.76513113e-08]\n",
      " [9.99999764e-01 2.36450588e-07]\n",
      " [9.99997969e-01 2.03133316e-06]\n",
      " [9.61434873e-01 3.85651275e-02]\n",
      " [9.99838657e-01 1.61343391e-04]\n",
      " [9.97070892e-01 2.92910824e-03]\n",
      " [9.99847796e-01 1.52204411e-04]\n",
      " [9.57801756e-01 4.21982439e-02]\n",
      " [9.88484927e-01 1.15150735e-02]\n",
      " [9.99943655e-01 5.63453710e-05]\n",
      " [9.99999999e-01 9.00004656e-10]\n",
      " [9.95705349e-01 4.29465057e-03]\n",
      " [9.99895909e-01 1.04091490e-04]\n",
      " [9.99999985e-01 1.45219114e-08]\n",
      " [9.71631532e-01 2.83684681e-02]\n",
      " [9.98803559e-01 1.19644070e-03]\n",
      " [9.99996224e-01 3.77634295e-06]\n",
      " [9.97897732e-01 2.10226801e-03]\n",
      " [9.99834666e-01 1.65333614e-04]\n",
      " [4.20594094e-01 5.79405906e-01]\n",
      " [9.99999571e-01 4.29287423e-07]\n",
      " [9.99998148e-01 1.85197990e-06]\n",
      " [9.99960574e-01 3.94258234e-05]\n",
      " [9.99999930e-01 6.99183123e-08]\n",
      " [9.99815887e-01 1.84113192e-04]\n",
      " [3.57299997e-01 6.42700003e-01]\n",
      " [1.37450381e-04 9.99862550e-01]\n",
      " [9.99545640e-01 4.54359545e-04]\n",
      " [9.98771423e-01 1.22857674e-03]\n",
      " [9.99932800e-01 6.72000618e-05]\n",
      " [5.47228743e-02 9.45277126e-01]\n",
      " [9.94258420e-01 5.74157997e-03]\n",
      " [8.28204429e-01 1.71795571e-01]\n",
      " [1.34654198e-01 8.65345802e-01]\n",
      " [9.99996529e-01 3.47134241e-06]\n",
      " [9.99244395e-01 7.55605163e-04]\n",
      " [1.20777201e-05 9.99987922e-01]\n",
      " [9.85025431e-01 1.49745693e-02]\n",
      " [9.99998641e-01 1.35922013e-06]\n",
      " [3.47440139e-02 9.65255986e-01]\n",
      " [9.46178024e-01 5.38219759e-02]\n",
      " [9.33517187e-01 6.64828128e-02]\n",
      " [9.96642235e-01 3.35776504e-03]\n",
      " [9.86797296e-07 9.99999013e-01]\n",
      " [9.98254451e-01 1.74554925e-03]\n",
      " [9.99951084e-01 4.89159990e-05]\n",
      " [9.98616961e-01 1.38303867e-03]\n",
      " [9.98261480e-01 1.73851976e-03]\n",
      " [9.99341786e-01 6.58213959e-04]\n",
      " [9.99996485e-01 3.51505042e-06]\n",
      " [9.99983573e-01 1.64270973e-05]\n",
      " [9.45170080e-01 5.48299205e-02]\n",
      " [9.99618429e-01 3.81571248e-04]\n",
      " [9.99994067e-01 5.93321245e-06]\n",
      " [1.44345912e-01 8.55654088e-01]\n",
      " [9.99756350e-01 2.43649538e-04]\n",
      " [3.13577357e-05 9.99968642e-01]\n",
      " [9.99999863e-01 1.36512236e-07]\n",
      " [1.56651293e-03 9.98433487e-01]\n",
      " [9.99999904e-01 9.56033862e-08]\n",
      " [9.22272677e-01 7.77273235e-02]\n",
      " [9.96331293e-01 3.66870652e-03]\n",
      " [1.00000000e+00 1.46502507e-11]\n",
      " [9.76258201e-02 9.02374180e-01]\n",
      " [9.99812346e-01 1.87654350e-04]\n",
      " [9.99999718e-01 2.81594837e-07]\n",
      " [9.99990246e-01 9.75447990e-06]\n",
      " [9.99997800e-01 2.19998164e-06]\n",
      " [9.99999290e-01 7.09926011e-07]\n",
      " [9.99998091e-01 1.90919675e-06]\n",
      " [9.99534287e-01 4.65713496e-04]\n",
      " [9.85528537e-01 1.44714634e-02]\n",
      " [6.85977372e-01 3.14022628e-01]\n",
      " [9.99999684e-01 3.15793434e-07]\n",
      " [9.98521522e-01 1.47847753e-03]\n",
      " [9.98716341e-01 1.28365894e-03]\n",
      " [9.99900493e-01 9.95068538e-05]\n",
      " [9.99953283e-01 4.67173428e-05]\n",
      " [9.93084068e-01 6.91593241e-03]\n",
      " [9.99869189e-01 1.30810681e-04]\n",
      " [9.99994560e-01 5.44014777e-06]\n",
      " [9.97421749e-01 2.57825147e-03]\n",
      " [9.99960758e-01 3.92420062e-05]\n",
      " [9.87315603e-01 1.26843971e-02]\n",
      " [9.99992456e-01 7.54443374e-06]\n",
      " [9.99999971e-01 2.93739852e-08]\n",
      " [9.99999924e-01 7.57573697e-08]\n",
      " [9.77474137e-01 2.25258634e-02]\n",
      " [9.99991341e-01 8.65935685e-06]\n",
      " [9.95822129e-01 4.17787129e-03]\n",
      " [9.99827392e-01 1.72607635e-04]\n",
      " [9.99989621e-01 1.03788226e-05]\n",
      " [8.80276893e-01 1.19723107e-01]\n",
      " [9.86283119e-01 1.37168815e-02]\n",
      " [9.99997787e-01 2.21329492e-06]\n",
      " [9.99685283e-01 3.14716993e-04]\n",
      " [9.10323580e-01 8.96764196e-02]\n",
      " [7.31355131e-01 2.68644869e-01]\n",
      " [9.99036316e-01 9.63684335e-04]\n",
      " [9.40764731e-01 5.92352694e-02]\n",
      " [9.98164049e-01 1.83595128e-03]\n",
      " [9.99995240e-01 4.76026138e-06]\n",
      " [9.99532192e-01 4.67807977e-04]\n",
      " [9.50874214e-01 4.91257862e-02]\n",
      " [9.97804802e-01 2.19519795e-03]\n",
      " [9.99313718e-01 6.86282372e-04]\n",
      " [9.03035486e-01 9.69645141e-02]\n",
      " [9.99935822e-01 6.41781692e-05]\n",
      " [5.25795451e-01 4.74204549e-01]\n",
      " [1.00000000e+00 3.44028199e-10]\n",
      " [9.15636052e-01 8.43639476e-02]\n",
      " [9.99997608e-01 2.39216271e-06]\n",
      " [9.82489135e-01 1.75108652e-02]\n",
      " [9.99893423e-01 1.06576771e-04]\n",
      " [9.98480880e-01 1.51912049e-03]\n",
      " [8.92370908e-01 1.07629092e-01]\n",
      " [9.99999921e-01 7.89843411e-08]\n",
      " [9.63273218e-01 3.67267825e-02]\n",
      " [9.67986245e-01 3.20137550e-02]\n",
      " [9.95996171e-01 4.00382932e-03]\n",
      " [9.99999660e-01 3.39813073e-07]\n",
      " [9.99995694e-01 4.30614649e-06]\n",
      " [9.99806358e-01 1.93641698e-04]\n",
      " [9.29872241e-01 7.01277592e-02]\n",
      " [9.99999942e-01 5.75073047e-08]\n",
      " [9.98954084e-01 1.04591580e-03]\n",
      " [9.97448899e-01 2.55110079e-03]\n",
      " [9.99999991e-01 8.86366308e-09]\n",
      " [9.95741913e-01 4.25808681e-03]\n",
      " [9.99998663e-01 1.33660196e-06]\n",
      " [9.99519542e-01 4.80457633e-04]\n",
      " [9.81114473e-01 1.88855266e-02]\n",
      " [9.99999086e-01 9.13720259e-07]\n",
      " [9.99884623e-01 1.15376971e-04]\n",
      " [1.66679126e-02 9.83332087e-01]\n",
      " [9.92213262e-01 7.78673789e-03]]\n"
     ]
    }
   ],
   "source": [
    "from sklearn.naive_bayes import BernoulliNB\n",
    "\n",
    "bnb = BernoulliNB()\n",
    "\n",
    "# Fit model with train dataset\n",
    "bnb = bnb.fit(X_train_transformed, y_train)\n",
    "\n",
    "\n",
    "bnb_predict = bnb.predict(X_test_transformed)\n",
    "\n",
    "# Test dataset\n",
    "bnb_prob = bnb.predict_proba(X_test_transformed)\n",
    "\n",
    "print(bnb_prob)"
   ]
  },
  {
   "cell_type": "code",
   "execution_count": 70,
   "metadata": {},
   "outputs": [],
   "source": [
    "def evaluate_model(y_test: np.array, y_predict: np.array):\n",
    "\n",
    "    from sklearn import metrics\n",
    "\n",
    "    confusion_matrix = metrics.confusion_matrix(y_test, y_predict)\n",
    "\n",
    "\n",
    "    # Get values\n",
    "    TN = confusion_matrix[0, 0]\n",
    "    FP = confusion_matrix[0, 1]\n",
    "    FN = confusion_matrix[1, 0]\n",
    "    TP = confusion_matrix[1, 1]\n",
    "\n",
    "\n",
    "    sensitivity = TP / float(FN + TP)\n",
    "    print(\"sensitivity\",sensitivity)\n",
    "\n",
    "    specificity = TN / float(TN + FP)\n",
    "    print(\"specificity\",specificity)\n",
    "\n",
    "    precision = TP / float(TP + FP)\n",
    "    print(\"precision\",precision)\n",
    "\n",
    "    print(\"PRECISION SCORE :\",metrics.precision_score(y_test, y_predict))\n",
    "    print(\"RECALL SCORE :\", metrics.recall_score(y_test, y_predict))\n",
    "    print(\"F1 SCORE :\",metrics.f1_score(y_test, y_predict))\n"
   ]
  },
  {
   "cell_type": "code",
   "execution_count": 71,
   "metadata": {},
   "outputs": [
    {
     "name": "stdout",
     "output_type": "stream",
     "text": [
      "sensitivity 0.695\n",
      "specificity 0.885\n",
      "precision 0.8580246913580247\n",
      "PRECISION SCORE : 0.8580246913580247\n",
      "RECALL SCORE : 0.695\n",
      "F1 SCORE : 0.7679558011049723\n"
     ]
    }
   ],
   "source": [
    "evaluate_model(y_test=y_test, y_predict=bnb_predict)"
   ]
  },
  {
   "cell_type": "code",
   "execution_count": 73,
   "metadata": {},
   "outputs": [
    {
     "data": {
      "text/plain": [
       "0.79"
      ]
     },
     "execution_count": 73,
     "metadata": {},
     "output_type": "execute_result"
    }
   ],
   "source": [
    "from sklearn import metrics\n",
    "\n",
    "bnb_accuracy_score = metrics.accuracy_score(y_test, bnb_predict)\n",
    "bnb_accuracy_score"
   ]
  },
  {
   "cell_type": "code",
   "execution_count": 75,
   "metadata": {},
   "outputs": [
    {
     "data": {
      "text/plain": [
       "array([[177,  23],\n",
       "       [ 61, 139]])"
      ]
     },
     "execution_count": 75,
     "metadata": {},
     "output_type": "execute_result"
    }
   ],
   "source": [
    "bnb_confusion_matrix = metrics.confusion_matrix(y_test, bnb_predict)\n",
    "bnb_confusion_matrix"
   ]
  },
  {
   "cell_type": "code",
   "execution_count": 76,
   "metadata": {},
   "outputs": [
    {
     "data": {
      "text/plain": [
       "23"
      ]
     },
     "execution_count": 76,
     "metadata": {},
     "output_type": "execute_result"
    }
   ],
   "source": [
    "FP = bnb_confusion_matrix[0, 1]\n",
    "FP"
   ]
  },
  {
   "cell_type": "code",
   "execution_count": 78,
   "metadata": {},
   "outputs": [
    {
     "name": "stdout",
     "output_type": "stream",
     "text": [
      "There are no common letters between them\n"
     ]
    }
   ],
   "source": [
    "s1=\"abc\"  \n",
    "\n",
    "s2=\"def\"\n",
    "\n",
    "# Write your code below\n",
    "s1_set = set([c for c in s1 if c.replace(' ', '')!=''])\n",
    "s2_set = set([c for c in s2 if c.replace(' ', '')!=''])\n",
    "\n",
    "common_letters = sorted(s1_set.intersection(s2_set))\n",
    "\n",
    "if len(common_letters) > 0:\n",
    "    print(\"The common letters are :\")\n",
    "    for c in common_letters:\n",
    "        print(c)\n",
    "else:\n",
    "    print(\"There are no common letters between them\")"
   ]
  },
  {
   "cell_type": "code",
   "execution_count": 103,
   "metadata": {},
   "outputs": [
    {
     "name": "stdout",
     "output_type": "stream",
     "text": [
      "45\n"
     ]
    }
   ],
   "source": [
    "input_list=[8, 10, 14]\n",
    "\n",
    "mn = min(input_list)   # Get the first no of the list\n",
    "mx= max(input_list)    # Get the last no of the list\n",
    "n= mx-mn+1\n",
    "total = n*(2*mn + n-1)/2\n",
    "sum_of_input = sum(input_list) \n",
    "print(int(total - sum_of_input))"
   ]
  },
  {
   "cell_type": "code",
   "execution_count": 104,
   "metadata": {},
   "outputs": [
    {
     "data": {
      "text/plain": [
       "4.0"
      ]
     },
     "execution_count": 104,
     "metadata": {},
     "output_type": "execute_result"
    }
   ],
   "source": [
    "n = ((max(input_list) - min(input_list))/2) + 1\n",
    "\n",
    "n"
   ]
  },
  {
   "cell_type": "code",
   "execution_count": 107,
   "metadata": {},
   "outputs": [
    {
     "data": {
      "text/plain": [
       "44.0"
      ]
     },
     "execution_count": 107,
     "metadata": {},
     "output_type": "execute_result"
    }
   ],
   "source": [
    "total = ((min(input_list) + max(input_list)) * n)/2\n",
    "\n",
    "total"
   ]
  },
  {
   "cell_type": "code",
   "execution_count": 108,
   "metadata": {},
   "outputs": [
    {
     "data": {
      "text/plain": [
       "12.0"
      ]
     },
     "execution_count": 108,
     "metadata": {},
     "output_type": "execute_result"
    }
   ],
   "source": [
    "total - sum(input_list)"
   ]
  },
  {
   "cell_type": "code",
   "execution_count": null,
   "metadata": {},
   "outputs": [],
   "source": []
  }
 ],
 "metadata": {
  "kernelspec": {
   "display_name": "venv",
   "language": "python",
   "name": "python3"
  },
  "language_info": {
   "codemirror_mode": {
    "name": "ipython",
    "version": 3
   },
   "file_extension": ".py",
   "mimetype": "text/x-python",
   "name": "python",
   "nbconvert_exporter": "python",
   "pygments_lexer": "ipython3",
   "version": "3.10.13"
  }
 },
 "nbformat": 4,
 "nbformat_minor": 2
}
