{
 "cells": [
  {
   "cell_type": "code",
   "execution_count": 95,
   "metadata": {},
   "outputs": [],
   "source": [
    "import pandas as pd\n",
    "import numpy as np"
   ]
  },
  {
   "cell_type": "code",
   "execution_count": 96,
   "metadata": {},
   "outputs": [
    {
     "data": {
      "text/html": [
       "<div>\n",
       "<style scoped>\n",
       "    .dataframe tbody tr th:only-of-type {\n",
       "        vertical-align: middle;\n",
       "    }\n",
       "\n",
       "    .dataframe tbody tr th {\n",
       "        vertical-align: top;\n",
       "    }\n",
       "\n",
       "    .dataframe thead th {\n",
       "        text-align: right;\n",
       "    }\n",
       "</style>\n",
       "<table border=\"1\" class=\"dataframe\">\n",
       "  <thead>\n",
       "    <tr style=\"text-align: right;\">\n",
       "      <th></th>\n",
       "      <th>class</th>\n",
       "      <th>content</th>\n",
       "    </tr>\n",
       "  </thead>\n",
       "  <tbody>\n",
       "    <tr>\n",
       "      <th>0</th>\n",
       "      <td>Hot</td>\n",
       "      <td>Coffee Tea  Soup Coffee Coffee</td>\n",
       "    </tr>\n",
       "    <tr>\n",
       "      <th>1</th>\n",
       "      <td>Hot</td>\n",
       "      <td>Coffee is hot and so is Soup  and Tea</td>\n",
       "    </tr>\n",
       "    <tr>\n",
       "      <th>2</th>\n",
       "      <td>Hot</td>\n",
       "      <td>Espresso is a hot Coffee  and not a Tea</td>\n",
       "    </tr>\n",
       "    <tr>\n",
       "      <th>3</th>\n",
       "      <td>Hot</td>\n",
       "      <td>Coffee is neither Tea nor Soup</td>\n",
       "    </tr>\n",
       "    <tr>\n",
       "      <th>4</th>\n",
       "      <td>Cold</td>\n",
       "      <td>Sprite Pepsi  Cold Coffee and cold Tea</td>\n",
       "    </tr>\n",
       "  </tbody>\n",
       "</table>\n",
       "</div>"
      ],
      "text/plain": [
       "  class                                  content\n",
       "0   Hot           Coffee Tea  Soup Coffee Coffee\n",
       "1   Hot    Coffee is hot and so is Soup  and Tea\n",
       "2   Hot  Espresso is a hot Coffee  and not a Tea\n",
       "3   Hot           Coffee is neither Tea nor Soup\n",
       "4  Cold   Sprite Pepsi  Cold Coffee and cold Tea"
      ]
     },
     "execution_count": 96,
     "metadata": {},
     "output_type": "execute_result"
    }
   ],
   "source": [
    "df = pd.read_csv(\"coffee.csv\", header=None, names=[\"class\", \"content\"])\n",
    "df.head(10)"
   ]
  },
  {
   "cell_type": "code",
   "execution_count": 97,
   "metadata": {},
   "outputs": [
    {
     "data": {
      "text/html": [
       "<div>\n",
       "<style scoped>\n",
       "    .dataframe tbody tr th:only-of-type {\n",
       "        vertical-align: middle;\n",
       "    }\n",
       "\n",
       "    .dataframe tbody tr th {\n",
       "        vertical-align: top;\n",
       "    }\n",
       "\n",
       "    .dataframe thead th {\n",
       "        text-align: right;\n",
       "    }\n",
       "</style>\n",
       "<table border=\"1\" class=\"dataframe\">\n",
       "  <thead>\n",
       "    <tr style=\"text-align: right;\">\n",
       "      <th></th>\n",
       "      <th>class</th>\n",
       "      <th>content</th>\n",
       "    </tr>\n",
       "  </thead>\n",
       "  <tbody>\n",
       "    <tr>\n",
       "      <th>0</th>\n",
       "      <td>1</td>\n",
       "      <td>Coffee Tea  Soup Coffee Coffee</td>\n",
       "    </tr>\n",
       "    <tr>\n",
       "      <th>1</th>\n",
       "      <td>1</td>\n",
       "      <td>Coffee is hot and so is Soup  and Tea</td>\n",
       "    </tr>\n",
       "    <tr>\n",
       "      <th>2</th>\n",
       "      <td>1</td>\n",
       "      <td>Espresso is a hot Coffee  and not a Tea</td>\n",
       "    </tr>\n",
       "    <tr>\n",
       "      <th>3</th>\n",
       "      <td>1</td>\n",
       "      <td>Coffee is neither Tea nor Soup</td>\n",
       "    </tr>\n",
       "    <tr>\n",
       "      <th>4</th>\n",
       "      <td>0</td>\n",
       "      <td>Sprite Pepsi  Cold Coffee and cold Tea</td>\n",
       "    </tr>\n",
       "  </tbody>\n",
       "</table>\n",
       "</div>"
      ],
      "text/plain": [
       "   class                                  content\n",
       "0      1           Coffee Tea  Soup Coffee Coffee\n",
       "1      1    Coffee is hot and so is Soup  and Tea\n",
       "2      1  Espresso is a hot Coffee  and not a Tea\n",
       "3      1           Coffee is neither Tea nor Soup\n",
       "4      0   Sprite Pepsi  Cold Coffee and cold Tea"
      ]
     },
     "execution_count": 97,
     "metadata": {},
     "output_type": "execute_result"
    }
   ],
   "source": [
    "# Convert class to numerical variables\n",
    "df['class'] = df['class'].map({'Hot': 1, 'Cold': 0})\n",
    "df.head(10)"
   ]
  },
  {
   "cell_type": "code",
   "execution_count": 98,
   "metadata": {},
   "outputs": [],
   "source": [
    "X_train = df['content']\n",
    "y_train = df['class']\n"
   ]
  },
  {
   "cell_type": "code",
   "execution_count": 110,
   "metadata": {},
   "outputs": [
    {
     "data": {
      "text/plain": [
       "{'coffee': 0,\n",
       " 'tea': 7,\n",
       " 'soup': 5,\n",
       " 'hot': 3,\n",
       " 'espresso': 2,\n",
       " 'sprite': 6,\n",
       " 'pepsi': 4,\n",
       " 'cold': 1}"
      ]
     },
     "execution_count": 110,
     "metadata": {},
     "output_type": "execute_result"
    }
   ],
   "source": [
    "from sklearn.feature_extraction.text import CountVectorizer\n",
    "\n",
    "vector_1 = CountVectorizer(stop_words='english')\n",
    "vector_1.fit(X_train)\n",
    "\n",
    "# len(vector_1.vocabulary_)\n",
    "\n",
    "vector_1.vocabulary_"
   ]
  },
  {
   "cell_type": "code",
   "execution_count": 100,
   "metadata": {},
   "outputs": [
    {
     "data": {
      "text/html": [
       "<div>\n",
       "<style scoped>\n",
       "    .dataframe tbody tr th:only-of-type {\n",
       "        vertical-align: middle;\n",
       "    }\n",
       "\n",
       "    .dataframe tbody tr th {\n",
       "        vertical-align: top;\n",
       "    }\n",
       "\n",
       "    .dataframe thead th {\n",
       "        text-align: right;\n",
       "    }\n",
       "</style>\n",
       "<table border=\"1\" class=\"dataframe\">\n",
       "  <thead>\n",
       "    <tr style=\"text-align: right;\">\n",
       "      <th></th>\n",
       "      <th>coffee</th>\n",
       "      <th>cold</th>\n",
       "      <th>espresso</th>\n",
       "      <th>hot</th>\n",
       "      <th>pepsi</th>\n",
       "      <th>soup</th>\n",
       "      <th>sprite</th>\n",
       "      <th>tea</th>\n",
       "    </tr>\n",
       "  </thead>\n",
       "  <tbody>\n",
       "    <tr>\n",
       "      <th>0</th>\n",
       "      <td>2</td>\n",
       "      <td>1</td>\n",
       "      <td>0</td>\n",
       "      <td>1</td>\n",
       "      <td>0</td>\n",
       "      <td>0</td>\n",
       "      <td>0</td>\n",
       "      <td>1</td>\n",
       "    </tr>\n",
       "  </tbody>\n",
       "</table>\n",
       "</div>"
      ],
      "text/plain": [
       "   coffee  cold  espresso  hot  pepsi  soup  sprite  tea\n",
       "0       2     1         0    1      0     0       0    1"
      ]
     },
     "execution_count": 100,
     "metadata": {},
     "output_type": "execute_result"
    }
   ],
   "source": [
    "test_df = pd.read_csv(\"test.csv\", header=None, names=[\"class\", \"content\"])\n",
    "test_df['class'] = test_df['class'].map({'Cold': 0, 'Hot': 1})\n",
    "X_test = test_df['content']\n",
    "y_test = test_df['class']\n",
    "\n",
    "\n",
    "X_test_transformed = vector_1.transform(X_test.values)\n",
    "pd.DataFrame(X_test_transformed.toarray(), \n",
    "             columns=vector_1.get_feature_names_out())"
   ]
  },
  {
   "cell_type": "code",
   "execution_count": 101,
   "metadata": {},
   "outputs": [],
   "source": [
    "X_train = X_train.values\n",
    "X_test = X_test.values\n",
    "y_train = y_train.values\n",
    "y_test = y_test.values"
   ]
  },
  {
   "cell_type": "code",
   "execution_count": 102,
   "metadata": {},
   "outputs": [
    {
     "data": {
      "text/html": [
       "<div>\n",
       "<style scoped>\n",
       "    .dataframe tbody tr th:only-of-type {\n",
       "        vertical-align: middle;\n",
       "    }\n",
       "\n",
       "    .dataframe tbody tr th {\n",
       "        vertical-align: top;\n",
       "    }\n",
       "\n",
       "    .dataframe thead th {\n",
       "        text-align: right;\n",
       "    }\n",
       "</style>\n",
       "<table border=\"1\" class=\"dataframe\">\n",
       "  <thead>\n",
       "    <tr style=\"text-align: right;\">\n",
       "      <th></th>\n",
       "      <th>coffee</th>\n",
       "      <th>cold</th>\n",
       "      <th>espresso</th>\n",
       "      <th>hot</th>\n",
       "      <th>pepsi</th>\n",
       "      <th>soup</th>\n",
       "      <th>sprite</th>\n",
       "      <th>tea</th>\n",
       "    </tr>\n",
       "  </thead>\n",
       "  <tbody>\n",
       "    <tr>\n",
       "      <th>0</th>\n",
       "      <td>3</td>\n",
       "      <td>0</td>\n",
       "      <td>0</td>\n",
       "      <td>0</td>\n",
       "      <td>0</td>\n",
       "      <td>1</td>\n",
       "      <td>0</td>\n",
       "      <td>1</td>\n",
       "    </tr>\n",
       "    <tr>\n",
       "      <th>1</th>\n",
       "      <td>1</td>\n",
       "      <td>0</td>\n",
       "      <td>0</td>\n",
       "      <td>1</td>\n",
       "      <td>0</td>\n",
       "      <td>1</td>\n",
       "      <td>0</td>\n",
       "      <td>1</td>\n",
       "    </tr>\n",
       "    <tr>\n",
       "      <th>2</th>\n",
       "      <td>1</td>\n",
       "      <td>0</td>\n",
       "      <td>1</td>\n",
       "      <td>1</td>\n",
       "      <td>0</td>\n",
       "      <td>0</td>\n",
       "      <td>0</td>\n",
       "      <td>1</td>\n",
       "    </tr>\n",
       "    <tr>\n",
       "      <th>3</th>\n",
       "      <td>1</td>\n",
       "      <td>0</td>\n",
       "      <td>0</td>\n",
       "      <td>0</td>\n",
       "      <td>0</td>\n",
       "      <td>1</td>\n",
       "      <td>0</td>\n",
       "      <td>1</td>\n",
       "    </tr>\n",
       "    <tr>\n",
       "      <th>4</th>\n",
       "      <td>1</td>\n",
       "      <td>2</td>\n",
       "      <td>0</td>\n",
       "      <td>0</td>\n",
       "      <td>1</td>\n",
       "      <td>0</td>\n",
       "      <td>1</td>\n",
       "      <td>1</td>\n",
       "    </tr>\n",
       "  </tbody>\n",
       "</table>\n",
       "</div>"
      ],
      "text/plain": [
       "   coffee  cold  espresso  hot  pepsi  soup  sprite  tea\n",
       "0       3     0         0    0      0     1       0    1\n",
       "1       1     0         0    1      0     1       0    1\n",
       "2       1     0         1    1      0     0       0    1\n",
       "3       1     0         0    0      0     1       0    1\n",
       "4       1     2         0    0      1     0       1    1"
      ]
     },
     "execution_count": 102,
     "metadata": {},
     "output_type": "execute_result"
    }
   ],
   "source": [
    "X_train_transformed = vector_1.transform(X_train)\n",
    "pd.DataFrame(X_train_transformed.toarray(), \n",
    "             columns=vector_1.get_feature_names_out())"
   ]
  },
  {
   "cell_type": "code",
   "execution_count": 103,
   "metadata": {},
   "outputs": [
    {
     "name": "stdout",
     "output_type": "stream",
     "text": [
      "[[0.10782733 0.89217267]]\n"
     ]
    }
   ],
   "source": [
    "from sklearn.naive_bayes import MultinomialNB\n",
    "\n",
    "mnb = MultinomialNB()\n",
    "\n",
    "# Fit model with train dataset\n",
    "mnb = mnb.fit(X_train_transformed, y_train)\n",
    "\n",
    "# Do prediction\n",
    "mnb_predict = mnb.predict(X_test_transformed)\n",
    "\n",
    "# Test dataset\n",
    "mnb_prob = mnb.predict_proba(X_test_transformed)\n",
    "\n",
    "print(mnb_prob)"
   ]
  },
  {
   "cell_type": "code",
   "execution_count": 104,
   "metadata": {},
   "outputs": [
    {
     "name": "stdout",
     "output_type": "stream",
     "text": [
      "[[0.12013139 0.87986861]]\n"
     ]
    }
   ],
   "source": [
    "from sklearn.naive_bayes import BernoulliNB\n",
    "\n",
    "bnb = BernoulliNB()\n",
    "\n",
    "# Fit model with train dataset\n",
    "bnb = bnb.fit(X_train_transformed, y_train)\n",
    "\n",
    "\n",
    "bnb_predict = bnb.predict(X_test_transformed)\n",
    "\n",
    "# Test dataset\n",
    "bnb_prob = bnb.predict_proba(X_test_transformed)\n",
    "\n",
    "print(bnb_prob)"
   ]
  },
  {
   "cell_type": "markdown",
   "metadata": {},
   "source": [
    "## Model Evaluation"
   ]
  },
  {
   "cell_type": "code",
   "execution_count": 105,
   "metadata": {},
   "outputs": [
    {
     "name": "stdout",
     "output_type": "stream",
     "text": [
      "\n",
      "MNB Accuracy: 1.0\n",
      "\n",
      "BNB Accuracy: 1.0\n"
     ]
    }
   ],
   "source": [
    "from sklearn import metrics\n",
    "\n",
    "mnb_accuracy_score = metrics.accuracy_score(y_test, mnb_predict)\n",
    "\n",
    "bnb_accuracy_score = metrics.accuracy_score(y_test, bnb_predict)\n",
    "\n",
    "\n",
    "print(f\"\\nMNB Accuracy: {mnb_accuracy_score}\")\n",
    "\n",
    "print(f\"\\nBNB Accuracy: {bnb_accuracy_score}\")"
   ]
  },
  {
   "cell_type": "code",
   "execution_count": 106,
   "metadata": {},
   "outputs": [
    {
     "name": "stdout",
     "output_type": "stream",
     "text": [
      "\n",
      "MNB Confusion Matrix:\n",
      " [[1]]\n",
      "\n",
      "BNB Confusion Matrix:\n",
      " [[1]]\n"
     ]
    }
   ],
   "source": [
    "mnb_confusion_matrix = metrics.confusion_matrix(y_test, mnb_predict)\n",
    "bnb_confusion_matrix = metrics.confusion_matrix(y_test, bnb_predict)\n",
    "\n",
    "print(f\"\\nMNB Confusion Matrix:\\n {mnb_confusion_matrix}\")\n",
    "\n",
    "print(f\"\\nBNB Confusion Matrix:\\n {bnb_confusion_matrix}\")"
   ]
  },
  {
   "cell_type": "code",
   "execution_count": 107,
   "metadata": {},
   "outputs": [],
   "source": [
    "def evaluate_model(y_test: np.array, y_predict: np.array):\n",
    "\n",
    "    from sklearn import metrics\n",
    "\n",
    "    confusion_matrix = metrics.confusion_matrix(y_test, y_predict)\n",
    "\n",
    "\n",
    "    # Get values\n",
    "    TN = confusion_matrix[0, 0]\n",
    "    FP = confusion_matrix[0, 1]\n",
    "    FN = confusion_matrix[1, 0]\n",
    "    TP = confusion_matrix[1, 1]\n",
    "\n",
    "\n",
    "    sensitivity = TP / float(FN + TP)\n",
    "    print(\"sensitivity\",sensitivity)\n",
    "\n",
    "    specificity = TN / float(TN + FP)\n",
    "    print(\"specificity\",specificity)\n",
    "\n",
    "    precision = TP / float(TP + FP)\n",
    "    print(\"precision\",precision)\n",
    "\n",
    "    print(\"PRECISION SCORE :\",metrics.precision_score(y_test, y_predict))\n",
    "    print(\"RECALL SCORE :\", metrics.recall_score(y_test, y_predict))\n",
    "    print(\"F1 SCORE :\",metrics.f1_score(y_test, y_predict))\n",
    "\n"
   ]
  },
  {
   "cell_type": "code",
   "execution_count": 108,
   "metadata": {},
   "outputs": [
    {
     "ename": "IndexError",
     "evalue": "index 1 is out of bounds for axis 1 with size 1",
     "output_type": "error",
     "traceback": [
      "\u001b[0;31m---------------------------------------------------------------------------\u001b[0m",
      "\u001b[0;31mIndexError\u001b[0m                                Traceback (most recent call last)",
      "\u001b[1;32m/Users/geotech/Documents/max/upgrad/course_4/ML-text-classification-Naive-Bayes/coffee_classification/pipeline.ipynb Cell 15\u001b[0m line \u001b[0;36m2\n\u001b[1;32m      <a href='vscode-notebook-cell:/Users/geotech/Documents/max/upgrad/course_4/ML-text-classification-Naive-Bayes/coffee_classification/pipeline.ipynb#X15sZmlsZQ%3D%3D?line=0'>1</a>\u001b[0m \u001b[39m# Evaluate MNB model\u001b[39;00m\n\u001b[0;32m----> <a href='vscode-notebook-cell:/Users/geotech/Documents/max/upgrad/course_4/ML-text-classification-Naive-Bayes/coffee_classification/pipeline.ipynb#X15sZmlsZQ%3D%3D?line=1'>2</a>\u001b[0m evaluate_model(y_test\u001b[39m=\u001b[39;49my_test, y_predict\u001b[39m=\u001b[39;49mmnb_predict)\n",
      "\u001b[1;32m/Users/geotech/Documents/max/upgrad/course_4/ML-text-classification-Naive-Bayes/coffee_classification/pipeline.ipynb Cell 15\u001b[0m line \u001b[0;36m1\n\u001b[1;32m      <a href='vscode-notebook-cell:/Users/geotech/Documents/max/upgrad/course_4/ML-text-classification-Naive-Bayes/coffee_classification/pipeline.ipynb#X15sZmlsZQ%3D%3D?line=7'>8</a>\u001b[0m \u001b[39m# Get values\u001b[39;00m\n\u001b[1;32m      <a href='vscode-notebook-cell:/Users/geotech/Documents/max/upgrad/course_4/ML-text-classification-Naive-Bayes/coffee_classification/pipeline.ipynb#X15sZmlsZQ%3D%3D?line=8'>9</a>\u001b[0m TN \u001b[39m=\u001b[39m confusion_matrix[\u001b[39m0\u001b[39m, \u001b[39m0\u001b[39m]\n\u001b[0;32m---> <a href='vscode-notebook-cell:/Users/geotech/Documents/max/upgrad/course_4/ML-text-classification-Naive-Bayes/coffee_classification/pipeline.ipynb#X15sZmlsZQ%3D%3D?line=9'>10</a>\u001b[0m FP \u001b[39m=\u001b[39m confusion_matrix[\u001b[39m0\u001b[39;49m, \u001b[39m1\u001b[39;49m]\n\u001b[1;32m     <a href='vscode-notebook-cell:/Users/geotech/Documents/max/upgrad/course_4/ML-text-classification-Naive-Bayes/coffee_classification/pipeline.ipynb#X15sZmlsZQ%3D%3D?line=10'>11</a>\u001b[0m FN \u001b[39m=\u001b[39m confusion_matrix[\u001b[39m1\u001b[39m, \u001b[39m0\u001b[39m]\n\u001b[1;32m     <a href='vscode-notebook-cell:/Users/geotech/Documents/max/upgrad/course_4/ML-text-classification-Naive-Bayes/coffee_classification/pipeline.ipynb#X15sZmlsZQ%3D%3D?line=11'>12</a>\u001b[0m TP \u001b[39m=\u001b[39m confusion_matrix[\u001b[39m1\u001b[39m, \u001b[39m1\u001b[39m]\n",
      "\u001b[0;31mIndexError\u001b[0m: index 1 is out of bounds for axis 1 with size 1"
     ]
    }
   ],
   "source": [
    "# Evaluate MNB model\n",
    "evaluate_model(y_test=y_test, y_predict=mnb_predict)"
   ]
  },
  {
   "cell_type": "code",
   "execution_count": null,
   "metadata": {},
   "outputs": [
    {
     "name": "stdout",
     "output_type": "stream",
     "text": [
      "sensitivity 0.0\n",
      "specificity nan\n",
      "precision nan\n",
      "PRECISION SCORE : 0.0\n",
      "RECALL SCORE : 0.0\n",
      "F1 SCORE : 0.0\n"
     ]
    },
    {
     "name": "stderr",
     "output_type": "stream",
     "text": [
      "/var/folders/sr/y9ng7km55ds5p79vxk5n2kw40000gn/T/ipykernel_7050/1384818502.py:18: RuntimeWarning: invalid value encountered in divide\n",
      "  specificity = TN / float(TN + FP)\n",
      "/var/folders/sr/y9ng7km55ds5p79vxk5n2kw40000gn/T/ipykernel_7050/1384818502.py:21: RuntimeWarning: invalid value encountered in divide\n",
      "  precision = TP / float(TP + FP)\n",
      "/Users/geotech/Documents/max/upgrad/course_4/venv/lib/python3.10/site-packages/sklearn/metrics/_classification.py:1471: UndefinedMetricWarning: Precision is ill-defined and being set to 0.0 due to no predicted samples. Use `zero_division` parameter to control this behavior.\n",
      "  _warn_prf(average, modifier, msg_start, len(result))\n"
     ]
    }
   ],
   "source": [
    "# Evaluate BNB model\n",
    "evaluate_model(y_test=y_test, y_predict=bnb_predict)"
   ]
  },
  {
   "cell_type": "code",
   "execution_count": null,
   "metadata": {},
   "outputs": [],
   "source": [
    "def create_roc_curve(y_test: np.array, y_predict_prob: np.array):\n",
    "\n",
    "    # creating an ROC curve\n",
    "    import pandas as pd\n",
    "    from sklearn.metrics import confusion_matrix as sk_confusion_matrix\n",
    "    from sklearn.metrics import roc_curve, auc\n",
    "    import matplotlib.pyplot as plt\n",
    "\n",
    "    false_positive_rate, true_positive_rate, thresholds = roc_curve(y_test, y_predict_prob[:,1])\n",
    "    roc_auc = auc(false_positive_rate, true_positive_rate)\n",
    "    print(f\"\\nroc_auc: {roc_auc}\")\n",
    "\n",
    "    matrix_threshold = pd.DataFrame({'Threshold': thresholds, \n",
    "              'TPR': true_positive_rate, \n",
    "              'FPR':false_positive_rate\n",
    "             })\n",
    "    \n",
    "    print(f\"\\nmatrix_threshold: \\n {matrix_threshold}\")\n",
    "\n",
    "\n",
    "    plt.ylabel('True Positive Rate')\n",
    "    plt.xlabel('False Positive Rate')\n",
    "    plt.title('ROC')\n",
    "    plt.plot(false_positive_rate, true_positive_rate)\n",
    "\n",
    "    plt.show()\n",
    "    \n"
   ]
  },
  {
   "cell_type": "code",
   "execution_count": null,
   "metadata": {},
   "outputs": [
    {
     "name": "stdout",
     "output_type": "stream",
     "text": [
      "\n",
      "roc_auc: nan\n",
      "\n",
      "matrix_threshold: \n",
      "    Threshold  TPR  FPR\n",
      "0        inf  0.0  NaN\n",
      "1   0.107827  1.0  NaN\n"
     ]
    },
    {
     "name": "stderr",
     "output_type": "stream",
     "text": [
      "/Users/geotech/Documents/max/upgrad/course_4/venv/lib/python3.10/site-packages/sklearn/metrics/_ranking.py:1124: UndefinedMetricWarning: No negative samples in y_true, false positive value should be meaningless\n",
      "  warnings.warn(\n"
     ]
    },
    {
     "data": {
      "image/png": "[encoded data removed]",
      "text/plain": [
       "<Figure size 640x480 with 1 Axes>"
      ]
     },
     "metadata": {},
     "output_type": "display_data"
    }
   ],
   "source": [
    "# Calculate ROC curse for MNB model\n",
    "create_roc_curve(y_test=y_test, y_predict_prob=mnb_prob)"
   ]
  },
  {
   "cell_type": "code",
   "execution_count": null,
   "metadata": {},
   "outputs": [
    {
     "name": "stdout",
     "output_type": "stream",
     "text": [
      "\n",
      "roc_auc: nan\n",
      "\n",
      "matrix_threshold: \n",
      "    Threshold  TPR  FPR\n",
      "0        inf  0.0  NaN\n",
      "1   0.120131  1.0  NaN\n"
     ]
    },
    {
     "name": "stderr",
     "output_type": "stream",
     "text": [
      "/Users/geotech/Documents/max/upgrad/course_4/venv/lib/python3.10/site-packages/sklearn/metrics/_ranking.py:1124: UndefinedMetricWarning: No negative samples in y_true, false positive value should be meaningless\n",
      "  warnings.warn(\n"
     ]
    },
    {
     "data": {
      "image/png": "[encoded data removed]",
      "text/plain": [
       "<Figure size 640x480 with 1 Axes>"
      ]
     },
     "metadata": {},
     "output_type": "display_data"
    }
   ],
   "source": [
    "# Calculate ROC curse for BNB model\n",
    "create_roc_curve(y_test=y_test, y_predict_prob=bnb_prob)"
   ]
  },
  {
   "cell_type": "code",
   "execution_count": 113,
   "metadata": {},
   "outputs": [
    {
     "name": "stdout",
     "output_type": "stream",
     "text": [
      "0.4857142857142857\n"
     ]
    }
   ],
   "source": [
    "from fractions import Fraction\n",
    "\n",
    "p_red_A = Fraction(3, 7)\n",
    "p_green_A = Fraction(4, 7)\n",
    "p_red_B = Fraction(4, 10)\n",
    "p_green_B = Fraction(6, 10)\n",
    "\n",
    "p_A = Fraction(1, 2)\n",
    "p_B = Fraction(1, 2)\n",
    "\n",
    "p_red = Fraction(7, 17)\n",
    "p_green = Fraction(10, 17)\n",
    "\n",
    "\n",
    "\n",
    "p_A_green = p_green_A * p_A / p_green\n",
    "print(float(p_A_green))"
   ]
  },
  {
   "cell_type": "code",
   "execution_count": 114,
   "metadata": {},
   "outputs": [
    {
     "name": "stdout",
     "output_type": "stream",
     "text": [
      "0.4\n"
     ]
    }
   ],
   "source": [
    "from fractions import Fraction\n",
    "\n",
    "p_blue_A = Fraction(4, 10)\n",
    "p_green_A = Fraction(6, 10)\n",
    "\n",
    "p_blue_B = Fraction(6, 10)\n",
    "p_green_B = Fraction(4, 10)\n",
    "\n",
    "p_blue_B = Fraction(5, 10)\n",
    "p_green_C = Fraction(5, 10)\n",
    "\n",
    "p_A = Fraction(1, 3)\n",
    "p_B = Fraction(1, 3)\n",
    "p_C = Fraction(1, 3)\n",
    "\n",
    "\n",
    "p_blue = Fraction(15, 30)\n",
    "p_green = Fraction(15, 30)\n",
    "\n",
    "\n",
    "\n",
    "p_A_green = p_green_A * p_A / p_green\n",
    "print(float(p_A_green))"
   ]
  },
  {
   "cell_type": "code",
   "execution_count": 120,
   "metadata": {},
   "outputs": [
    {
     "data": {
      "text/plain": [
       "False"
      ]
     },
     "execution_count": 120,
     "metadata": {},
     "output_type": "execute_result"
    }
   ],
   "source": [
    "p_dl_female = 50/90 * 90/500 / (240/500)\n",
    "p_dl_and_female = 50 / 500\n",
    "p_dl_and_female > p_dl_female"
   ]
  },
  {
   "cell_type": "code",
   "execution_count": 121,
   "metadata": {},
   "outputs": [
    {
     "data": {
      "text/plain": [
       "0.20833333333333334"
      ]
     },
     "execution_count": 121,
     "metadata": {},
     "output_type": "execute_result"
    }
   ],
   "source": [
    "p_dl_female"
   ]
  },
  {
   "cell_type": "code",
   "execution_count": 124,
   "metadata": {},
   "outputs": [
    {
     "data": {
      "text/plain": [
       "0.24"
      ]
     },
     "execution_count": 124,
     "metadata": {},
     "output_type": "execute_result"
    }
   ],
   "source": [
    "Fraction(3, 15) * Fraction(15, 50) / Fraction(10, 50)"
   ]
  },
  {
   "cell_type": "code",
   "execution_count": null,
   "metadata": {},
   "outputs": [],
   "source": []
  }
 ],
 "metadata": {
  "kernelspec": {
   "display_name": "venv",
   "language": "python",
   "name": "python3"
  },
  "language_info": {
   "codemirror_mode": {
    "name": "ipython",
    "version": 3
   },
   "file_extension": ".py",
   "mimetype": "text/x-python",
   "name": "python",
   "nbconvert_exporter": "python",
   "pygments_lexer": "ipython3",
   "version": "3.10.13"
  }
 },
 "nbformat": 4,
 "nbformat_minor": 2
}
